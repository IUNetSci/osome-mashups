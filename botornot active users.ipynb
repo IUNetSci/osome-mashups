{
 "cells": [
  {
   "cell_type": "markdown",
   "metadata": {},
   "source": [
    "# OSoMe + Botometer mashup\n",
    "by [Clayton A Davis](http://www.clayadavis.net)\n",
    "with updates by Emmi Bevensee\n",
    "\n",
    "This notebook shows how to use the [OSoMe](http://osome.iuni.iu.edu/) (pronounced \"awesome\") and [Botometer](http://truthy.indiana.edu/botornot)(formerly BotOrNot) APIs together to achieve a task impossible with either alone.\n",
    "\n",
    "To run this demo, you need some familiarity with the Python progamming language. To ensure access to all required packages, we encourage use of the [Anaconda](https://docs.continuum.io/anaconda/install) Python distribution. Your mileage with other Python distributions may vary. This code is provided as-is, and we do not have the resources to provide support.\n",
    "\n",
    "In this demo, we will:\n",
    "\n",
    "1. Given a set of Twitter hashtags and a date range, use OSoMe to retrieve the most active users in the conversation\n",
    "2. Check these active users' bot scores with Botometer\n",
    "3. Generate a distribution of bot scores like this one: ![example distribution](https://s3.amazonaws.com/clayadavis_public/active-users_election2016_2015-04-16_2015-04-28.png \"Histogram and kernel density estimate\")"
   ]
  },
  {
   "cell_type": "markdown",
   "metadata": {},
   "source": [
    "## Dependencies\n",
    "\n",
    "This notebook was written using Python >3.5 and tested for compatibility with Python 2.7. All Python dependencies are installable with `pip`. If you're using [Anaconda](https://docs.continuum.io/anaconda/install), you can probably just do\n",
    "\n",
    "    conda install seaborn\n",
    "\n",
    "and\n",
    "\n",
    "    pip install botometer\n",
    "\n",
    "from your command line.\n",
    "\n",
    "Once these packages have been installed, run the next cell to import the required modules."
   ]
  },
  {
   "cell_type": "code",
   "execution_count": 35,
   "metadata": {},
   "outputs": [],
   "source": [
    "from __future__ import print_function, unicode_literals\n",
    "\n",
    "import datetime\n",
    "import json\n",
    "import re\n",
    "import time\n",
    "import traceback\n",
    "\n",
    "import botometer\n",
    "import pandas as pd\n",
    "%matplotlib inline\n",
    "import requests\n",
    "import seaborn as sns\n",
    "\n",
    "import matplotlib.pyplot as plt"
   ]
  },
  {
   "cell_type": "markdown",
   "metadata": {},
   "source": [
    "# 0. Enter authentication keys\n",
    "\n",
    "We are going to use APIs for Twitter and Mashape, so you need accounts for both.\n",
    "\n",
    "## 0.1 Twitter\n",
    "To get Twitter API keys, you need to define an app at [apps.twitter.com](https://apps.twitter.com/) or use one you've previously created. If you're creating a new app, the name, URL, etc. don't matter to this demo. \n",
    "\n",
    "Go into the app's properties by clicking on it, and then click on the \"Keys and Access Tokens\" tab. Your API keys should be inside, as illustrated here: ![twitter api keys](https://s3.amazonaws.com/clayadavis_public/twitter_api_keys.jpg \"Twitter API keys\")"
   ]
  },
  {
   "cell_type": "markdown",
   "metadata": {},
   "source": [
    "Copy your keys into the code below and execute the block."
   ]
  },
  {
   "cell_type": "code",
   "execution_count": 36,
   "metadata": {},
   "outputs": [],
   "source": [
    "#add your keys here\n",
    "twitter_app_auth = {\n",
    "    'consumer_key': 'COPY_CONSUMER_KEY_HERE',\n",
    "    'consumer_secret': 'COPY_CONSUMER_SECRET_HERE',\n",
    "    'access_token': 'COPY_ACCESS_TOKEN_HERE',\n",
    "    'access_token_secret': 'COPY_ACCESS_TOKEN_SECRET_HERE',\n",
    "  }\n",
    "\n",
    "for api_key in twitter_app_auth.values(): \n",
    "    assert not api_key.startswith('COPY_')"
   ]
  },
  {
   "cell_type": "markdown",
   "metadata": {},
   "source": [
    "## 0.2 Mashape\n",
    "\n",
    "Once you have a Mashape account and are logged in, navigate to the [OSoMe API documentation](https://market.mashape.com/truthy/osome) and look at any of the examples on the right. Your key will be listed in the example request headers. Copy it into the code below and execute the block. Make sure not to include any closing quotation marks: ![mashape api key](https://s3.amazonaws.com/clayadavis_public/mashape_key.jpg \"Mashape API key\")"
   ]
  },
  {
   "cell_type": "code",
   "execution_count": 37,
   "metadata": {},
   "outputs": [],
   "source": [
    "#add your key here\n",
    "mashape_key = 'COPY_MASHAPE_KEY_HERE'\n",
    "\n",
    "assert not mashape_key.startswith('COPY_')"
   ]
  },
  {
   "cell_type": "markdown",
   "metadata": {},
   "source": [
    "# 1. Search OSoMe database using Mashape\n",
    "\n",
    "Enter one or more hashtags you're interested in searching below. The # sign is required, but hashtags are case-insensitive.\n",
    "\n",
    "Also enter the start and end dates for your search window. The more tweets returned by the search, the longer it takes to retrieve the result, so you may wish to start small (a few days). The maximum allowed date window is one month. If you exceed this amount your code will break. Focusing on recent (last few weeks) yields the best results.\n",
    "\n",
    "Execute the block after entering your search parameters."
   ]
  },
  {
   "cell_type": "code",
   "execution_count": 38,
   "metadata": {},
   "outputs": [],
   "source": [
    "hashtags = ['#MAGA'] #This can be a list of hashtags\n",
    "start_date = datetime.date(2019, 1, 23) # year, month, day\n",
    "end_date   = datetime.date(2019, 1, 27)\n",
    "\n",
    "for hashtag in hashtags:\n",
    "    assert hashtag.startswith('#')"
   ]
  },
  {
   "cell_type": "markdown",
   "metadata": {},
   "source": [
    "The following Mashape request to begin the query should only take a second. The returned \"result_url\" will be used later to fetch the query results."
   ]
  },
  {
   "cell_type": "code",
   "execution_count": 39,
   "metadata": {},
   "outputs": [
    {
     "name": "stdout",
     "output_type": "stream",
     "text": [
      "{\n",
      "   \"job_id\": \"580e9352-905f-44d8-98eb-68d2667b647b\",\n",
      "   \"result_url\": \"https://osome.iuni.iu.edu/moe/api/mashape/result/580e9352-905f-44d8-98eb-68d2667b647b\"\n",
      "}\n"
     ]
    }
   ],
   "source": [
    "mashape_method_url = 'https://osome-public.p.mashape.com/user-post-count'\n",
    "params = {\n",
    "    'q': ','.join(hashtags),\n",
    "    'start': start_date.isoformat(),\n",
    "    'end': end_date.isoformat(),\n",
    "}\n",
    "\n",
    "headers = {\n",
    "    'X-Mashape-Key': mashape_key,\n",
    "}\n",
    "\n",
    "mashape_response = requests.get(mashape_method_url, params=params, headers=headers)\n",
    "mashape_content = mashape_response.json()\n",
    "\n",
    "print(json.dumps(mashape_content, indent=3, sort_keys=True))\n",
    "result_url = mashape_content['result_url'] \n",
    "#if you get server errors, check the API support section in the OSoMe API on Mashape"
   ]
  },
  {
   "cell_type": "markdown",
   "metadata": {},
   "source": [
    "Execute the following block to retrieve the result. Depending on the number of tweets returned by the query, this may take several minutes. While it's running, an asterisk (\\*) will be displayed in the command number to the left of the block. If the block times out, just re-execute it. Once the query finishes, the result will be a file with a series of lines in this format:\n",
    "\n",
    "```\n",
    "<screen_name>(<user_id>)\\t<number_of_tweets>\n",
    "```\n",
    "\n",
    "The first few lines of this result will be displayed below. We will later sort this list by number of tweets to get the most active users."
   ]
  },
  {
   "cell_type": "code",
   "execution_count": 40,
   "metadata": {},
   "outputs": [
    {
     "name": "stdout",
     "output_type": "stream",
     "text": [
      "003a04f8c2054b7(2920659436)\t1\n",
      "007RedRover(989177513741078528)\t1\n",
      "007cigarjoe(1351095835)\t1\n",
      "007jorgeEnrique(923365296748064768)\t1\n",
      "00LovelyDay00(887998063)\t1\n",
      "00lOll0(3006912146)\t2\n",
      "00michaelroy(403085272)\t1\n",
      "01ProudAmerican(707753844516593665)\t1\n",
      "01_zebra(39130\n"
     ]
    }
   ],
   "source": [
    "#if your date range is too long it may lead to a time-out here\n",
    "#don't run next cells until this finishes\n",
    "result_response = requests.get(result_url)\n",
    "print(result_response.text[:255])"
   ]
  },
  {
   "cell_type": "markdown",
   "metadata": {},
   "source": [
    "We want a separate column for each screen name, user id, and the number of tweets from the most active users. Executing the next block will extract what we want using a regular expression and store the results in a a tabular data structure, sorted in descending order of tweet number.\n",
    "\n",
    "After executing the block, the first few rows of the table will be displayed."
   ]
  },
  {
   "cell_type": "code",
   "execution_count": 41,
   "metadata": {},
   "outputs": [
    {
     "data": {
      "text/html": [
       "<div>\n",
       "<style scoped>\n",
       "    .dataframe tbody tr th:only-of-type {\n",
       "        vertical-align: middle;\n",
       "    }\n",
       "\n",
       "    .dataframe tbody tr th {\n",
       "        vertical-align: top;\n",
       "    }\n",
       "\n",
       "    .dataframe thead th {\n",
       "        text-align: right;\n",
       "    }\n",
       "</style>\n",
       "<table border=\"1\" class=\"dataframe\">\n",
       "  <thead>\n",
       "    <tr style=\"text-align: right;\">\n",
       "      <th></th>\n",
       "      <th>screen_name</th>\n",
       "      <th>tweets</th>\n",
       "    </tr>\n",
       "    <tr>\n",
       "      <th>user_id</th>\n",
       "      <th></th>\n",
       "      <th></th>\n",
       "    </tr>\n",
       "  </thead>\n",
       "  <tbody>\n",
       "    <tr>\n",
       "      <th>1071181437603332099</th>\n",
       "      <td>Alpha_Omega_Yah</td>\n",
       "      <td>275</td>\n",
       "    </tr>\n",
       "    <tr>\n",
       "      <th>33658276</th>\n",
       "      <td>thebestcloser</td>\n",
       "      <td>115</td>\n",
       "    </tr>\n",
       "    <tr>\n",
       "      <th>1057778110307975168</th>\n",
       "      <td>DadeMurph</td>\n",
       "      <td>111</td>\n",
       "    </tr>\n",
       "    <tr>\n",
       "      <th>939120063315034114</th>\n",
       "      <td>ElectronicWar01</td>\n",
       "      <td>92</td>\n",
       "    </tr>\n",
       "    <tr>\n",
       "      <th>1017681558881423360</th>\n",
       "      <td>Fidelis42351561</td>\n",
       "      <td>84</td>\n",
       "    </tr>\n",
       "  </tbody>\n",
       "</table>\n",
       "</div>"
      ],
      "text/plain": [
       "                         screen_name  tweets\n",
       "user_id                                     \n",
       "1071181437603332099  Alpha_Omega_Yah     275\n",
       "33658276               thebestcloser     115\n",
       "1057778110307975168        DadeMurph     111\n",
       "939120063315034114   ElectronicWar01      92\n",
       "1017681558881423360  Fidelis42351561      84"
      ]
     },
     "execution_count": 41,
     "metadata": {},
     "output_type": "execute_result"
    }
   ],
   "source": [
    "def extract_records(result_response):\n",
    "    result_pattern = r'(\\w+)\\((\\d+)\\)\\s+(\\d+)'\n",
    "    for line in result_response.text.split('\\n'):\n",
    "        match = re.match(result_pattern, line)\n",
    "        if match:\n",
    "            yield match.groups()\n",
    "\n",
    "table = pd.DataFrame.from_records(extract_records(result_response),\n",
    "                               columns=['screen_name', 'user_id', 'tweets'],\n",
    "                               index=['user_id'],\n",
    "                              )\n",
    "\n",
    "# from_records doesn't do type inference, so the tweets column gets parsed as a string\n",
    "table['tweets'] = table['tweets'].astype(int)\n",
    "table = table.sort_values(by='tweets', ascending=False)\n",
    "\n",
    "table.head()"
   ]
  },
  {
   "cell_type": "markdown",
   "metadata": {},
   "source": [
    "# 2. Compute bot scores\n",
    "\n",
    "First we need to do some setup. Execute the following block to initialize the BotOrNot API."
   ]
  },
  {
   "cell_type": "code",
   "execution_count": 42,
   "metadata": {},
   "outputs": [],
   "source": [
    "bon = botometer.Botometer(wait_on_ratelimit=True,\n",
    "                          mashape_key=mashape_key,\n",
    "                          **twitter_app_auth)"
   ]
  },
  {
   "cell_type": "markdown",
   "metadata": {},
   "source": [
    "We also need to add a column to our table for the calculated bot scores. Since we don't have these bot scores yet, these will appear as `NaN` below."
   ]
  },
  {
   "cell_type": "code",
   "execution_count": 43,
   "metadata": {},
   "outputs": [
    {
     "data": {
      "text/html": [
       "<div>\n",
       "<style scoped>\n",
       "    .dataframe tbody tr th:only-of-type {\n",
       "        vertical-align: middle;\n",
       "    }\n",
       "\n",
       "    .dataframe tbody tr th {\n",
       "        vertical-align: top;\n",
       "    }\n",
       "\n",
       "    .dataframe thead th {\n",
       "        text-align: right;\n",
       "    }\n",
       "</style>\n",
       "<table border=\"1\" class=\"dataframe\">\n",
       "  <thead>\n",
       "    <tr style=\"text-align: right;\">\n",
       "      <th></th>\n",
       "      <th>screen_name</th>\n",
       "      <th>tweets</th>\n",
       "      <th>bot_score</th>\n",
       "    </tr>\n",
       "    <tr>\n",
       "      <th>user_id</th>\n",
       "      <th></th>\n",
       "      <th></th>\n",
       "      <th></th>\n",
       "    </tr>\n",
       "  </thead>\n",
       "  <tbody>\n",
       "    <tr>\n",
       "      <th>1071181437603332099</th>\n",
       "      <td>Alpha_Omega_Yah</td>\n",
       "      <td>275</td>\n",
       "      <td>NaN</td>\n",
       "    </tr>\n",
       "    <tr>\n",
       "      <th>33658276</th>\n",
       "      <td>thebestcloser</td>\n",
       "      <td>115</td>\n",
       "      <td>NaN</td>\n",
       "    </tr>\n",
       "    <tr>\n",
       "      <th>1057778110307975168</th>\n",
       "      <td>DadeMurph</td>\n",
       "      <td>111</td>\n",
       "      <td>NaN</td>\n",
       "    </tr>\n",
       "    <tr>\n",
       "      <th>939120063315034114</th>\n",
       "      <td>ElectronicWar01</td>\n",
       "      <td>92</td>\n",
       "      <td>NaN</td>\n",
       "    </tr>\n",
       "    <tr>\n",
       "      <th>1017681558881423360</th>\n",
       "      <td>Fidelis42351561</td>\n",
       "      <td>84</td>\n",
       "      <td>NaN</td>\n",
       "    </tr>\n",
       "  </tbody>\n",
       "</table>\n",
       "</div>"
      ],
      "text/plain": [
       "                         screen_name  tweets  bot_score\n",
       "user_id                                                \n",
       "1071181437603332099  Alpha_Omega_Yah     275        NaN\n",
       "33658276               thebestcloser     115        NaN\n",
       "1057778110307975168        DadeMurph     111        NaN\n",
       "939120063315034114   ElectronicWar01      92        NaN\n",
       "1017681558881423360  Fidelis42351561      84        NaN"
      ]
     },
     "execution_count": 43,
     "metadata": {},
     "output_type": "execute_result"
    }
   ],
   "source": [
    "table['bot_score'] = pd.np.nan\n",
    "table.head()"
   ]
  },
  {
   "cell_type": "markdown",
   "metadata": {},
   "source": [
    "We can check and make sure the BotOrNot API is working correctly by checking a known-human account. This will take a few seconds."
   ]
  },
  {
   "cell_type": "code",
   "execution_count": 28,
   "metadata": {},
   "outputs": [
    {
     "data": {
      "text/plain": [
       "{'cap': {'english': 0.0014828129117616376, 'universal': 0.0033536770167744536},\n",
       " 'categories': {'content': 0.12470468567559924,\n",
       "  'friend': 0.09994026911083925,\n",
       "  'network': 0.08835149684131184,\n",
       "  'sentiment': 0.1169582905663787,\n",
       "  'temporal': 0.2884487682695764,\n",
       "  'user': 0.05042452964186063},\n",
       " 'display_scores': {'content': 0.6,\n",
       "  'english': 0.2,\n",
       "  'friend': 0.5,\n",
       "  'network': 0.4,\n",
       "  'sentiment': 0.6,\n",
       "  'temporal': 1.4,\n",
       "  'universal': 0.4,\n",
       "  'user': 0.3},\n",
       " 'scores': {'english': 0.03546593341354506, 'universal': 0.07651310672792835},\n",
       " 'user': {'id_str': '1548959833', 'screen_name': 'clayadavis'}}"
      ]
     },
     "execution_count": 28,
     "metadata": {},
     "output_type": "execute_result"
    }
   ],
   "source": [
    "bon.check_account('@clayadavis')"
   ]
  },
  {
   "cell_type": "markdown",
   "metadata": {},
   "source": [
    "If that went smoothly, you will see a `'score'` field in the result. That is the bot score. Scores below 0.4 indicate human-like behavior and scores above 0.6 suggest bot-like behavior  although it does not guarentee that the user is fully-automated.\n",
    "\n",
    "Next we will do the same for the most active accounts from the list above. The `num_users_to_score` parameter will control how many accounts we'll check per execution of the following block. Each calculation takes 5-10 seconds, so keep this number reasonable at first. Also keep in mind the rate limits of both Twitter and BotOrNot: 180 requests per 15-minute period.\n",
    "\n",
    "Each execution of the following block will pick up where the previous execution left off; only `NaN` bot scores are updated. So feel free to interrupt execution and continue on if you get impatient, you can always come back and calculate more."
   ]
  },
  {
   "cell_type": "code",
   "execution_count": 45,
   "metadata": {},
   "outputs": [
    {
     "name": "stdout",
     "output_type": "stream",
     "text": [
      "Checking 1 of 30, sn: Alpha_Omega_Yah, id: 1071181437603332099...\n",
      "    ...success!\n",
      "Checking 2 of 30, sn: thebestcloser, id: 33658276...\n",
      "    ...success!\n",
      "Checking 3 of 30, sn: DadeMurph, id: 1057778110307975168...\n",
      "    ...success!\n",
      "Checking 4 of 30, sn: ElectronicWar01, id: 939120063315034114...\n",
      "    ...success!\n",
      "Checking 5 of 30, sn: Fidelis42351561, id: 1017681558881423360...\n",
      "    ...success!\n",
      "Checking 6 of 30, sn: starlowell, id: 3229496760...\n",
      "    ...success!\n",
      "Checking 7 of 30, sn: SealeyGerald, id: 1028366243601018881...\n",
      "    ...success!\n",
      "Checking 8 of 30, sn: Tombx7M, id: 877699334...\n",
      "    ...success!\n",
      "Checking 9 of 30, sn: actlightning, id: 15170286...\n",
      "    ...success!\n",
      "Checking 10 of 30, sn: HookedOnHopium, id: 803645786114269184...\n",
      "    ...success!\n",
      "Checking 11 of 30, sn: ZnaTrainer, id: 13817822...\n",
      "    ...success!\n",
      "Checking 12 of 30, sn: mdwehbie, id: 94207009...\n",
      "    ...success!\n",
      "Checking 13 of 30, sn: iamtheMAGAbot, id: 871794289726148610...\n",
      "    ...success!\n",
      "Checking 14 of 30, sn: t_r_u_m_p_i_n_g, id: 714059245784838144...\n",
      "    ...success!\n",
      "Checking 15 of 30, sn: DegreesSeven, id: 490464503...\n",
      "    ...success!\n",
      "Checking 16 of 30, sn: TanyaWr42786567, id: 1007608600662085633...\n",
      "    ...success!\n",
      "Checking 17 of 30, sn: trump020, id: 882271875094597633...\n",
      "    ...success!\n",
      "Checking 18 of 30, sn: SMC3141, id: 796551563795951616...\n",
      "    ...success!\n",
      "Checking 19 of 30, sn: RonnieStewart17, id: 898970054...\n",
      "    ...success!\n",
      "Checking 20 of 30, sn: nuuzfeed, id: 708168355488731136...\n",
      "    ...success!\n",
      "Checking 21 of 30, sn: Josal87, id: 3763577115...\n",
      "    ...success!\n",
      "Checking 22 of 30, sn: MAMASLAVV, id: 930556002...\n",
      "    ...success!\n",
      "Checking 23 of 30, sn: CathydoesDC, id: 1454234172...\n",
      "    ...success!\n",
      "Checking 24 of 30, sn: ChiefcommandX, id: 1005244207659929603...\n",
      "    ...success!\n",
      "Checking 25 of 30, sn: okWessler5, id: 224534605...\n",
      "    ...success!\n",
      "Checking 26 of 30, sn: russ_ayers, id: 3788048898...\n",
      "    ...success!\n",
      "Checking 27 of 30, sn: peterboykin, id: 24493104...\n",
      "    ...success!\n",
      "Checking 28 of 30, sn: VotingFemaIe, id: 767424168669229057...\n",
      "    ...success!\n",
      "Checking 29 of 30, sn: MAGAFOREVER10, id: 1074817083723137025...\n",
      "    ...success!\n",
      "Checking 30 of 30, sn: 1stAirDel_USMCR, id: 2198298228...\n",
      "    ...success!\n",
      "Done checking 30 accounts.\n"
     ]
    }
   ],
   "source": [
    "#you can change the number of users here but each one takes about 5 seconds\n",
    "num_users_to_score = 30\n",
    "unscored_rows = table[table['bot_score'].isnull()]\n",
    "rows_to_score = unscored_rows[:num_users_to_score]\n",
    "\n",
    "for num, (user_id, data) in enumerate(rows_to_score.iterrows()):\n",
    "    print(\"Checking {current} of {total}, sn: {sn}, id: {uid}...\".format(\n",
    "           current=num+1,\n",
    "           total=len(rows_to_score),\n",
    "           sn=data['screen_name'],\n",
    "           uid=user_id,\n",
    "    ))\n",
    "    retry = 0\n",
    "    while True:\n",
    "        try:\n",
    "            bon_result = bon.check_account(user_id)\n",
    "            #we've here selected the universal score rather than english specific but you can change this\n",
    "            table.loc[user_id, 'bot_score'] = bon_result['scores']['universal']\n",
    "            print('    ...success!')\n",
    "        except botometer.tweepy.TweepError:\n",
    "            print('    ...fail.')\n",
    "        except requests.HTTPError:\n",
    "            secs = 2 ** retry\n",
    "            traceback.print_exc()\n",
    "            print('    ...error. Retrying in %i secs...' % secs)\n",
    "            retry += 1\n",
    "        if 0 < retry <= 3:\n",
    "            time.sleep(secs)\n",
    "        else:\n",
    "            break\n",
    "print(\"Done checking %i accounts.\" % num_users_to_score)\n",
    "            "
   ]
  },
  {
   "cell_type": "markdown",
   "metadata": {},
   "source": [
    "Executing the next block will display the top N accounts, sorted by number of tweets, with bot scores filled in."
   ]
  },
  {
   "cell_type": "code",
   "execution_count": 46,
   "metadata": {},
   "outputs": [
    {
     "data": {
      "text/html": [
       "<div>\n",
       "<style scoped>\n",
       "    .dataframe tbody tr th:only-of-type {\n",
       "        vertical-align: middle;\n",
       "    }\n",
       "\n",
       "    .dataframe tbody tr th {\n",
       "        vertical-align: top;\n",
       "    }\n",
       "\n",
       "    .dataframe thead th {\n",
       "        text-align: right;\n",
       "    }\n",
       "</style>\n",
       "<table border=\"1\" class=\"dataframe\">\n",
       "  <thead>\n",
       "    <tr style=\"text-align: right;\">\n",
       "      <th></th>\n",
       "      <th>screen_name</th>\n",
       "      <th>tweets</th>\n",
       "      <th>bot_score</th>\n",
       "    </tr>\n",
       "    <tr>\n",
       "      <th>user_id</th>\n",
       "      <th></th>\n",
       "      <th></th>\n",
       "      <th></th>\n",
       "    </tr>\n",
       "  </thead>\n",
       "  <tbody>\n",
       "    <tr>\n",
       "      <th>1071181437603332099</th>\n",
       "      <td>Alpha_Omega_Yah</td>\n",
       "      <td>275</td>\n",
       "      <td>0.283782</td>\n",
       "    </tr>\n",
       "    <tr>\n",
       "      <th>33658276</th>\n",
       "      <td>thebestcloser</td>\n",
       "      <td>115</td>\n",
       "      <td>0.374267</td>\n",
       "    </tr>\n",
       "    <tr>\n",
       "      <th>1057778110307975168</th>\n",
       "      <td>DadeMurph</td>\n",
       "      <td>111</td>\n",
       "      <td>0.799058</td>\n",
       "    </tr>\n",
       "    <tr>\n",
       "      <th>939120063315034114</th>\n",
       "      <td>ElectronicWar01</td>\n",
       "      <td>92</td>\n",
       "      <td>0.576809</td>\n",
       "    </tr>\n",
       "    <tr>\n",
       "      <th>1017681558881423360</th>\n",
       "      <td>Fidelis42351561</td>\n",
       "      <td>84</td>\n",
       "      <td>0.355186</td>\n",
       "    </tr>\n",
       "    <tr>\n",
       "      <th>3229496760</th>\n",
       "      <td>starlowell</td>\n",
       "      <td>67</td>\n",
       "      <td>0.635707</td>\n",
       "    </tr>\n",
       "    <tr>\n",
       "      <th>1028366243601018881</th>\n",
       "      <td>SealeyGerald</td>\n",
       "      <td>63</td>\n",
       "      <td>0.884865</td>\n",
       "    </tr>\n",
       "    <tr>\n",
       "      <th>877699334</th>\n",
       "      <td>Tombx7M</td>\n",
       "      <td>47</td>\n",
       "      <td>0.596776</td>\n",
       "    </tr>\n",
       "    <tr>\n",
       "      <th>15170286</th>\n",
       "      <td>actlightning</td>\n",
       "      <td>42</td>\n",
       "      <td>0.474489</td>\n",
       "    </tr>\n",
       "    <tr>\n",
       "      <th>803645786114269184</th>\n",
       "      <td>HookedOnHopium</td>\n",
       "      <td>41</td>\n",
       "      <td>0.654560</td>\n",
       "    </tr>\n",
       "    <tr>\n",
       "      <th>13817822</th>\n",
       "      <td>ZnaTrainer</td>\n",
       "      <td>39</td>\n",
       "      <td>0.596776</td>\n",
       "    </tr>\n",
       "    <tr>\n",
       "      <th>94207009</th>\n",
       "      <td>mdwehbie</td>\n",
       "      <td>38</td>\n",
       "      <td>0.556587</td>\n",
       "    </tr>\n",
       "    <tr>\n",
       "      <th>871794289726148610</th>\n",
       "      <td>iamtheMAGAbot</td>\n",
       "      <td>36</td>\n",
       "      <td>0.515643</td>\n",
       "    </tr>\n",
       "    <tr>\n",
       "      <th>714059245784838144</th>\n",
       "      <td>t_r_u_m_p_i_n_g</td>\n",
       "      <td>35</td>\n",
       "      <td>0.799058</td>\n",
       "    </tr>\n",
       "    <tr>\n",
       "      <th>490464503</th>\n",
       "      <td>DegreesSeven</td>\n",
       "      <td>35</td>\n",
       "      <td>0.251523</td>\n",
       "    </tr>\n",
       "    <tr>\n",
       "      <th>1007608600662085633</th>\n",
       "      <td>TanyaWr42786567</td>\n",
       "      <td>33</td>\n",
       "      <td>0.355186</td>\n",
       "    </tr>\n",
       "    <tr>\n",
       "      <th>882271875094597633</th>\n",
       "      <td>trump020</td>\n",
       "      <td>31</td>\n",
       "      <td>0.267344</td>\n",
       "    </tr>\n",
       "    <tr>\n",
       "      <th>796551563795951616</th>\n",
       "      <td>SMC3141</td>\n",
       "      <td>29</td>\n",
       "      <td>0.318419</td>\n",
       "    </tr>\n",
       "    <tr>\n",
       "      <th>898970054</th>\n",
       "      <td>RonnieStewart17</td>\n",
       "      <td>29</td>\n",
       "      <td>0.672939</td>\n",
       "    </tr>\n",
       "    <tr>\n",
       "      <th>708168355488731136</th>\n",
       "      <td>nuuzfeed</td>\n",
       "      <td>27</td>\n",
       "      <td>0.654560</td>\n",
       "    </tr>\n",
       "    <tr>\n",
       "      <th>3763577115</th>\n",
       "      <td>Josal87</td>\n",
       "      <td>26</td>\n",
       "      <td>0.616428</td>\n",
       "    </tr>\n",
       "    <tr>\n",
       "      <th>930556002</th>\n",
       "      <td>MAMASLAVV</td>\n",
       "      <td>25</td>\n",
       "      <td>0.170132</td>\n",
       "    </tr>\n",
       "    <tr>\n",
       "      <th>1454234172</th>\n",
       "      <td>CathydoesDC</td>\n",
       "      <td>25</td>\n",
       "      <td>0.433677</td>\n",
       "    </tr>\n",
       "    <tr>\n",
       "      <th>1005244207659929603</th>\n",
       "      <td>ChiefcommandX</td>\n",
       "      <td>24</td>\n",
       "      <td>0.374267</td>\n",
       "    </tr>\n",
       "    <tr>\n",
       "      <th>224534605</th>\n",
       "      <td>okWessler5</td>\n",
       "      <td>24</td>\n",
       "      <td>0.690802</td>\n",
       "    </tr>\n",
       "    <tr>\n",
       "      <th>3788048898</th>\n",
       "      <td>russ_ayers</td>\n",
       "      <td>24</td>\n",
       "      <td>0.300817</td>\n",
       "    </tr>\n",
       "    <tr>\n",
       "      <th>24493104</th>\n",
       "      <td>peterboykin</td>\n",
       "      <td>23</td>\n",
       "      <td>0.454006</td>\n",
       "    </tr>\n",
       "    <tr>\n",
       "      <th>767424168669229057</th>\n",
       "      <td>VotingFemaIe</td>\n",
       "      <td>22</td>\n",
       "      <td>0.413570</td>\n",
       "    </tr>\n",
       "    <tr>\n",
       "      <th>1074817083723137025</th>\n",
       "      <td>MAGAFOREVER10</td>\n",
       "      <td>22</td>\n",
       "      <td>0.596776</td>\n",
       "    </tr>\n",
       "    <tr>\n",
       "      <th>2198298228</th>\n",
       "      <td>1stAirDel_USMCR</td>\n",
       "      <td>22</td>\n",
       "      <td>0.336555</td>\n",
       "    </tr>\n",
       "  </tbody>\n",
       "</table>\n",
       "</div>"
      ],
      "text/plain": [
       "                         screen_name  tweets  bot_score\n",
       "user_id                                                \n",
       "1071181437603332099  Alpha_Omega_Yah     275   0.283782\n",
       "33658276               thebestcloser     115   0.374267\n",
       "1057778110307975168        DadeMurph     111   0.799058\n",
       "939120063315034114   ElectronicWar01      92   0.576809\n",
       "1017681558881423360  Fidelis42351561      84   0.355186\n",
       "3229496760                starlowell      67   0.635707\n",
       "1028366243601018881     SealeyGerald      63   0.884865\n",
       "877699334                    Tombx7M      47   0.596776\n",
       "15170286                actlightning      42   0.474489\n",
       "803645786114269184    HookedOnHopium      41   0.654560\n",
       "13817822                  ZnaTrainer      39   0.596776\n",
       "94207009                    mdwehbie      38   0.556587\n",
       "871794289726148610     iamtheMAGAbot      36   0.515643\n",
       "714059245784838144   t_r_u_m_p_i_n_g      35   0.799058\n",
       "490464503               DegreesSeven      35   0.251523\n",
       "1007608600662085633  TanyaWr42786567      33   0.355186\n",
       "882271875094597633          trump020      31   0.267344\n",
       "796551563795951616           SMC3141      29   0.318419\n",
       "898970054            RonnieStewart17      29   0.672939\n",
       "708168355488731136          nuuzfeed      27   0.654560\n",
       "3763577115                   Josal87      26   0.616428\n",
       "930556002                  MAMASLAVV      25   0.170132\n",
       "1454234172               CathydoesDC      25   0.433677\n",
       "1005244207659929603    ChiefcommandX      24   0.374267\n",
       "224534605                 okWessler5      24   0.690802\n",
       "3788048898                russ_ayers      24   0.300817\n",
       "24493104                 peterboykin      23   0.454006\n",
       "767424168669229057      VotingFemaIe      22   0.413570\n",
       "1074817083723137025    MAGAFOREVER10      22   0.596776\n",
       "2198298228           1stAirDel_USMCR      22   0.336555"
      ]
     },
     "execution_count": 46,
     "metadata": {},
     "output_type": "execute_result"
    }
   ],
   "source": [
    "table.head(30)"
   ]
  },
  {
   "cell_type": "markdown",
   "metadata": {},
   "source": [
    "Some of the bot scores may still be `NaN` if the account was deleted or blocked and we could not obtain a bot score; this is normal. \n",
    "\n",
    "The next block will create a histogram and its [kernel density estimate](https://en.wikipedia.org/wiki/Kernel_density_estimation) from the available bot scores, and save the image as a png in the current directory."
   ]
  },
  {
   "cell_type": "code",
   "execution_count": 49,
   "metadata": {},
   "outputs": [
    {
     "data": {
      "image/png": "[encoded data removed]",
      "text/plain": [
       "<Figure size 864x432 with 1 Axes>"
      ]
     },
     "metadata": {},
     "output_type": "display_data"
    }
   ],
   "source": [
    "bot_scores = table[table['bot_score'].notnull()]['bot_score']\n",
    "sns.set(rc={\"figure.figsize\": (12, 6)})\n",
    "ax = sns.distplot(bot_scores)\n",
    "ax.set_title('Bot scores for top {N} most active accounts by number of tweets'\n",
    "             '\\ncontaining {hashtags} from {start} to {end}'.format(\n",
    "    N=len(bot_scores),\n",
    "    hashtags=', '.join(hashtags),\n",
    "    start=start_date.isoformat(),\n",
    "    end=end_date.isoformat(),\n",
    "    ))\n",
    "ax.set_xlim([0,1])\n",
    "ax.set_xlabel('Bot score')\n",
    "ax.yaxis.set_visible(False)\n",
    "ax.patch.set_visible(False)\n",
    "safe_hashtag_list = ','.join(hashtags).replace('#', '')\n",
    "filename = '_'.join(['active-users', safe_hashtag_list, start_date.isoformat(), end_date.isoformat()])\n",
    "#saves image to your local folder\n",
    "plt.savefig(filename)\n",
    "#If you get a FutureWarning message about Anaconda, ignore it"
   ]
  },
  {
   "cell_type": "markdown",
   "metadata": {},
   "source": [
    "Of course we can calculate any statistics we want of this series. Executing the following will print the mean and median of this distribution."
   ]
  },
  {
   "cell_type": "code",
   "execution_count": 48,
   "metadata": {},
   "outputs": [
    {
     "name": "stdout",
     "output_type": "stream",
     "text": [
      "Mean: 0.50, median: 0.50\n"
     ]
    }
   ],
   "source": [
    "print(\"Mean: %0.2f, median: %0.2f\" % (bot_scores.mean(), bot_scores.median()))"
   ]
  },
  {
   "cell_type": "markdown",
   "metadata": {},
   "source": [
    "And that's it! This approach of chaining together APIs is extremely powerful, and there are many other combinations possible with the two APIs used here. Please tweet at [@TruthyAtIndiana](http://twitter.com/TruthyAtIndiana) or me ([@clayadavis](http://twitter.com/clayadavis)) if you found this mashup useful. "
   ]
  }
 ],
 "metadata": {
  "kernelspec": {
   "display_name": "Python 3",
   "language": "python",
   "name": "python3"
  },
  "language_info": {
   "codemirror_mode": {
    "name": "ipython",
    "version": 3
   },
   "file_extension": ".py",
   "mimetype": "text/x-python",
   "name": "python",
   "nbconvert_exporter": "python",
   "pygments_lexer": "ipython3",
   "version": "3.7.1"
  }
 },
 "nbformat": 4,
 "nbformat_minor": 1
}
